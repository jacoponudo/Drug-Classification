{
  "cells": [
    {
      "cell_type": "markdown",
      "metadata": {
        "id": "dneC5_R-h6E-"
      },
      "source": [
        "#Drug Classification Task\n",
        "Since as a beginner in machine learning it would be a great opportunity to try some techniques to predict the outcome of the drugs that might be accurate for the patient.\n",
        "After establish a conncetion with our drive folder we can move on to reach the data."
      ]
    },
    {
      "cell_type": "markdown",
      "source": [
        "## Import Dataset"
      ],
      "metadata": {
        "id": "WTlsJS0MrAyn"
      }
    },
    {
      "cell_type": "markdown",
      "metadata": {
        "id": "z3mb_riaby5q"
      },
      "source": [
        "Since we've decided to solve a Kaggle task of classification of type of drugs, we can start importing directly on colab our material. \\\\\n",
        "1) Identify my account of kaggle. \\\\\n",
        "2) Set the directory of work. \\\\\n",
        "3) Specify which dataset we would use. \\\\\n",
        "4) Once updated the zip file of data, we can unzip it."
      ]
    },
    {
      "cell_type": "code",
      "execution_count": null,
      "metadata": {
        "colab": {
          "base_uri": "https://localhost:8080/",
          "height": 74
        },
        "id": "AwDt8FnybqLS",
        "outputId": "c228cbe5-8e4e-4bbc-c728-d1a458029cf9"
      },
      "outputs": [
        {
          "output_type": "display_data",
          "data": {
            "text/plain": [
              "<IPython.core.display.HTML object>"
            ],
            "text/html": [
              "\n",
              "     <input type=\"file\" id=\"files-8896dbe5-03ca-4f9a-b8c3-a401a59a1d0c\" name=\"files[]\" multiple disabled\n",
              "        style=\"border:none\" />\n",
              "     <output id=\"result-8896dbe5-03ca-4f9a-b8c3-a401a59a1d0c\">\n",
              "      Upload widget is only available when the cell has been executed in the\n",
              "      current browser session. Please rerun this cell to enable.\n",
              "      </output>\n",
              "      <script>// Copyright 2017 Google LLC\n",
              "//\n",
              "// Licensed under the Apache License, Version 2.0 (the \"License\");\n",
              "// you may not use this file except in compliance with the License.\n",
              "// You may obtain a copy of the License at\n",
              "//\n",
              "//      http://www.apache.org/licenses/LICENSE-2.0\n",
              "//\n",
              "// Unless required by applicable law or agreed to in writing, software\n",
              "// distributed under the License is distributed on an \"AS IS\" BASIS,\n",
              "// WITHOUT WARRANTIES OR CONDITIONS OF ANY KIND, either express or implied.\n",
              "// See the License for the specific language governing permissions and\n",
              "// limitations under the License.\n",
              "\n",
              "/**\n",
              " * @fileoverview Helpers for google.colab Python module.\n",
              " */\n",
              "(function(scope) {\n",
              "function span(text, styleAttributes = {}) {\n",
              "  const element = document.createElement('span');\n",
              "  element.textContent = text;\n",
              "  for (const key of Object.keys(styleAttributes)) {\n",
              "    element.style[key] = styleAttributes[key];\n",
              "  }\n",
              "  return element;\n",
              "}\n",
              "\n",
              "// Max number of bytes which will be uploaded at a time.\n",
              "const MAX_PAYLOAD_SIZE = 100 * 1024;\n",
              "\n",
              "function _uploadFiles(inputId, outputId) {\n",
              "  const steps = uploadFilesStep(inputId, outputId);\n",
              "  const outputElement = document.getElementById(outputId);\n",
              "  // Cache steps on the outputElement to make it available for the next call\n",
              "  // to uploadFilesContinue from Python.\n",
              "  outputElement.steps = steps;\n",
              "\n",
              "  return _uploadFilesContinue(outputId);\n",
              "}\n",
              "\n",
              "// This is roughly an async generator (not supported in the browser yet),\n",
              "// where there are multiple asynchronous steps and the Python side is going\n",
              "// to poll for completion of each step.\n",
              "// This uses a Promise to block the python side on completion of each step,\n",
              "// then passes the result of the previous step as the input to the next step.\n",
              "function _uploadFilesContinue(outputId) {\n",
              "  const outputElement = document.getElementById(outputId);\n",
              "  const steps = outputElement.steps;\n",
              "\n",
              "  const next = steps.next(outputElement.lastPromiseValue);\n",
              "  return Promise.resolve(next.value.promise).then((value) => {\n",
              "    // Cache the last promise value to make it available to the next\n",
              "    // step of the generator.\n",
              "    outputElement.lastPromiseValue = value;\n",
              "    return next.value.response;\n",
              "  });\n",
              "}\n",
              "\n",
              "/**\n",
              " * Generator function which is called between each async step of the upload\n",
              " * process.\n",
              " * @param {string} inputId Element ID of the input file picker element.\n",
              " * @param {string} outputId Element ID of the output display.\n",
              " * @return {!Iterable<!Object>} Iterable of next steps.\n",
              " */\n",
              "function* uploadFilesStep(inputId, outputId) {\n",
              "  const inputElement = document.getElementById(inputId);\n",
              "  inputElement.disabled = false;\n",
              "\n",
              "  const outputElement = document.getElementById(outputId);\n",
              "  outputElement.innerHTML = '';\n",
              "\n",
              "  const pickedPromise = new Promise((resolve) => {\n",
              "    inputElement.addEventListener('change', (e) => {\n",
              "      resolve(e.target.files);\n",
              "    });\n",
              "  });\n",
              "\n",
              "  const cancel = document.createElement('button');\n",
              "  inputElement.parentElement.appendChild(cancel);\n",
              "  cancel.textContent = 'Cancel upload';\n",
              "  const cancelPromise = new Promise((resolve) => {\n",
              "    cancel.onclick = () => {\n",
              "      resolve(null);\n",
              "    };\n",
              "  });\n",
              "\n",
              "  // Wait for the user to pick the files.\n",
              "  const files = yield {\n",
              "    promise: Promise.race([pickedPromise, cancelPromise]),\n",
              "    response: {\n",
              "      action: 'starting',\n",
              "    }\n",
              "  };\n",
              "\n",
              "  cancel.remove();\n",
              "\n",
              "  // Disable the input element since further picks are not allowed.\n",
              "  inputElement.disabled = true;\n",
              "\n",
              "  if (!files) {\n",
              "    return {\n",
              "      response: {\n",
              "        action: 'complete',\n",
              "      }\n",
              "    };\n",
              "  }\n",
              "\n",
              "  for (const file of files) {\n",
              "    const li = document.createElement('li');\n",
              "    li.append(span(file.name, {fontWeight: 'bold'}));\n",
              "    li.append(span(\n",
              "        `(${file.type || 'n/a'}) - ${file.size} bytes, ` +\n",
              "        `last modified: ${\n",
              "            file.lastModifiedDate ? file.lastModifiedDate.toLocaleDateString() :\n",
              "                                    'n/a'} - `));\n",
              "    const percent = span('0% done');\n",
              "    li.appendChild(percent);\n",
              "\n",
              "    outputElement.appendChild(li);\n",
              "\n",
              "    const fileDataPromise = new Promise((resolve) => {\n",
              "      const reader = new FileReader();\n",
              "      reader.onload = (e) => {\n",
              "        resolve(e.target.result);\n",
              "      };\n",
              "      reader.readAsArrayBuffer(file);\n",
              "    });\n",
              "    // Wait for the data to be ready.\n",
              "    let fileData = yield {\n",
              "      promise: fileDataPromise,\n",
              "      response: {\n",
              "        action: 'continue',\n",
              "      }\n",
              "    };\n",
              "\n",
              "    // Use a chunked sending to avoid message size limits. See b/62115660.\n",
              "    let position = 0;\n",
              "    do {\n",
              "      const length = Math.min(fileData.byteLength - position, MAX_PAYLOAD_SIZE);\n",
              "      const chunk = new Uint8Array(fileData, position, length);\n",
              "      position += length;\n",
              "\n",
              "      const base64 = btoa(String.fromCharCode.apply(null, chunk));\n",
              "      yield {\n",
              "        response: {\n",
              "          action: 'append',\n",
              "          file: file.name,\n",
              "          data: base64,\n",
              "        },\n",
              "      };\n",
              "\n",
              "      let percentDone = fileData.byteLength === 0 ?\n",
              "          100 :\n",
              "          Math.round((position / fileData.byteLength) * 100);\n",
              "      percent.textContent = `${percentDone}% done`;\n",
              "\n",
              "    } while (position < fileData.byteLength);\n",
              "  }\n",
              "\n",
              "  // All done.\n",
              "  yield {\n",
              "    response: {\n",
              "      action: 'complete',\n",
              "    }\n",
              "  };\n",
              "}\n",
              "\n",
              "scope.google = scope.google || {};\n",
              "scope.google.colab = scope.google.colab || {};\n",
              "scope.google.colab._files = {\n",
              "  _uploadFiles,\n",
              "  _uploadFilesContinue,\n",
              "};\n",
              "})(self);\n",
              "</script> "
            ]
          },
          "metadata": {}
        },
        {
          "output_type": "stream",
          "name": "stdout",
          "text": [
            "Saving kaggle.json to kaggle (4).json\n"
          ]
        }
      ],
      "source": [
        "import numpy as np\n",
        "from random import randint\n",
        "from sklearn.utils import shuffle\n",
        "from sklearn.preprocessing import MinMaxScaler\n",
        "from google.colab import files\n",
        "import pandas as pd\n",
        "import numpy as np\n",
        "import tensorflow as tf\n",
        "from sklearn.preprocessing import LabelEncoder, StandardScaler\n",
        "from sklearn.metrics import confusion_matrix, accuracy_score\n",
        "from sklearn.model_selection import train_test_split\n",
        "from sklearn.compose import ColumnTransformer\n",
        "from sklearn.preprocessing import OneHotEncoder\n",
        "import os\n",
        "uploaded = files.upload()#here we should update our kaggle.json (API token)"
      ]
    },
    {
      "cell_type": "code",
      "execution_count": null,
      "metadata": {
        "colab": {
          "base_uri": "https://localhost:8080/"
        },
        "id": "JIk14BRtcGlO",
        "outputId": "4cbc39b8-3390-42fb-e4e8-a3c488cb0a8b"
      },
      "outputs": [
        {
          "output_type": "stream",
          "name": "stdout",
          "text": [
            "/content\n"
          ]
        }
      ],
      "source": [
        "!pwd\n",
        "import os\n",
        "os.environ['KAGGLE_CONFIG_DIR'] = \"/content\""
      ]
    },
    {
      "cell_type": "code",
      "execution_count": null,
      "metadata": {
        "colab": {
          "base_uri": "https://localhost:8080/"
        },
        "id": "uUn0eupYjSw0",
        "outputId": "58f27da6-52f2-406d-a7f6-3b4d6b56c590"
      },
      "outputs": [
        {
          "output_type": "stream",
          "name": "stdout",
          "text": [
            "Warning: Your Kaggle API key is readable by other users on this system! To fix this, you can run 'chmod 600 /content/kaggle.json'\n",
            "drug-classification.zip: Skipping, found more recently modified local copy (use --force to force download)\n"
          ]
        }
      ],
      "source": [
        "!kaggle datasets download -d prathamtripathi/drug-classification"
      ]
    },
    {
      "cell_type": "code",
      "execution_count": null,
      "metadata": {
        "colab": {
          "base_uri": "https://localhost:8080/"
        },
        "id": "OQO-jigqc9ah",
        "outputId": "a9a58603-5060-4937-8777-44e46e81dc6c"
      },
      "outputs": [
        {
          "output_type": "stream",
          "name": "stdout",
          "text": [
            " drug200.csv\t\t  'kaggle (1).json'  'kaggle (3).json'\t kaggle.json\n",
            " drug-classification.zip  'kaggle (2).json'  'kaggle (4).json'\t sample_data\n"
          ]
        }
      ],
      "source": [
        "!ls #copy the name of the zip file\n",
        "from zipfile import ZipFile\n",
        "with ZipFile('drug-classification.zip', 'r') as zipObj:\n",
        "   zipObj.extractall()"
      ]
    },
    {
      "cell_type": "code",
      "execution_count": null,
      "metadata": {
        "id": "zXWypMZyiK3g"
      },
      "outputs": [],
      "source": [
        "import pandas as pd\n",
        "data=pd.read_csv(\"drug200.csv\")"
      ]
    },
    {
      "cell_type": "markdown",
      "source": [
        "## Exporatory Data Analysis\n"
      ],
      "metadata": {
        "id": "6YeBCI-gy2Wu"
      }
    },
    {
      "cell_type": "markdown",
      "source": [
        "BEfore to run hardly our Multilayer Neural Network, we want to provide some ideas about how the data avaliable can be exploited to classify the output.\n",
        "In fact, as you can see, from the following plots some variables allow us to classify well just combining the results."
      ],
      "metadata": {
        "id": "3Ih1DKa71gLM"
      }
    },
    {
      "cell_type": "code",
      "source": [
        "import seaborn as sns\n",
        "plt.style.use('seaborn-dark-palette')\n",
        "plt.figure(figsize=(8,6))\n",
        "dcount = sns.countplot('Drug', data=data)"
      ],
      "metadata": {
        "colab": {
          "base_uri": "https://localhost:8080/",
          "height": 444
        },
        "id": "5KxbzU-Ny_ha",
        "outputId": "6242edf4-9414-49fd-b929-4568a30edc5e"
      },
      "execution_count": null,
      "outputs": [
        {
          "output_type": "stream",
          "name": "stderr",
          "text": [
            "/usr/local/lib/python3.7/dist-packages/seaborn/_decorators.py:43: FutureWarning: Pass the following variable as a keyword arg: x. From version 0.12, the only valid positional argument will be `data`, and passing other arguments without an explicit keyword will result in an error or misinterpretation.\n",
            "  FutureWarning\n"
          ]
        },
        {
          "output_type": "display_data",
          "data": {
            "text/plain": [
              "<Figure size 576x432 with 1 Axes>"
            ],
            "image/png": "[encoded data removed]"
          },
          "metadata": {
            "needs_background": "light"
          }
        }
      ]
    },
    {
      "cell_type": "markdown",
      "source": [
        "In these case for exaple, some drugrs like \"Drug A\" and \"Drug B\" are generally consumed just by a certain  type of users (young and old)."
      ],
      "metadata": {
        "id": "9b2hVHzj19qO"
      }
    },
    {
      "cell_type": "code",
      "source": [
        "plt.figure(figsize = (15,8))\n",
        "sns.swarmplot(x = \"Drug\", y = \"Age\", data = data)\n",
        "plt.legend(data.Drug.value_counts().index)\n",
        "plt.title(\"Age - Drug\", fontsize=20, y=1.02)\n",
        "plt.show()"
      ],
      "metadata": {
        "colab": {
          "base_uri": "https://localhost:8080/",
          "height": 526
        },
        "id": "IX9sb-u41L3K",
        "outputId": "1598a866-ebb0-4773-c7bb-4d48125a1809"
      },
      "execution_count": null,
      "outputs": [
        {
          "output_type": "display_data",
          "data": {
            "text/plain": [
              "<Figure size 1080x576 with 1 Axes>"
            ],
            "image/png": "[encoded data removed]"
          },
          "metadata": {
            "needs_background": "light"
          }
        }
      ]
    },
    {
      "cell_type": "markdown",
      "source": [
        "The data are pretty balanced, as follow from the following plot."
      ],
      "metadata": {
        "id": "DuU9mtrU2W-p"
      }
    },
    {
      "cell_type": "code",
      "source": [
        "plt.figure(figsize=(8,6))\n",
        "ax = sns.boxplot('Sex', 'Age', data=data).set(ylim=(0, 80))"
      ],
      "metadata": {
        "colab": {
          "base_uri": "https://localhost:8080/",
          "height": 448
        },
        "id": "rlHvU37C1Q9r",
        "outputId": "39bd2ec8-fc5e-4063-aeaf-4ca6bb3eccd0"
      },
      "execution_count": null,
      "outputs": [
        {
          "output_type": "stream",
          "name": "stderr",
          "text": [
            "/usr/local/lib/python3.7/dist-packages/seaborn/_decorators.py:43: FutureWarning: Pass the following variables as keyword args: x, y. From version 0.12, the only valid positional argument will be `data`, and passing other arguments without an explicit keyword will result in an error or misinterpretation.\n",
            "  FutureWarning\n"
          ]
        },
        {
          "output_type": "display_data",
          "data": {
            "text/plain": [
              "<Figure size 576x432 with 1 Axes>"
            ],
            "image/png": "[encoded data removed]"
          },
          "metadata": {
            "needs_background": "light"
          }
        }
      ]
    },
    {
      "cell_type": "markdown",
      "source": [
        "Also looking to de level of Cholesterol we are facing a totally different consume of drugs."
      ],
      "metadata": {
        "id": "CckVZUWW2ZJf"
      }
    },
    {
      "cell_type": "code",
      "source": [
        "plt.figure(figsize=(8,6))\n",
        "chcount = sns.countplot('Drug', hue='Cholesterol', data=data)"
      ],
      "metadata": {
        "colab": {
          "base_uri": "https://localhost:8080/",
          "height": 444
        },
        "id": "J5_9VJ9U1X2-",
        "outputId": "8aaa86f0-97e3-4cb5-97bd-ad2292f2c97f"
      },
      "execution_count": null,
      "outputs": [
        {
          "output_type": "stream",
          "name": "stderr",
          "text": [
            "/usr/local/lib/python3.7/dist-packages/seaborn/_decorators.py:43: FutureWarning: Pass the following variable as a keyword arg: x. From version 0.12, the only valid positional argument will be `data`, and passing other arguments without an explicit keyword will result in an error or misinterpretation.\n",
            "  FutureWarning\n"
          ]
        },
        {
          "output_type": "display_data",
          "data": {
            "text/plain": [
              "<Figure size 576x432 with 1 Axes>"
            ],
            "image/png": "[encoded data removed]"
          },
          "metadata": {
            "needs_background": "light"
          }
        }
      ]
    },
    {
      "cell_type": "markdown",
      "source": [
        "## Split and Tensor conversion"
      ],
      "metadata": {
        "id": "we-QZTSNa70i"
      }
    },
    {
      "cell_type": "code",
      "source": [
        "X = data.iloc[:, :-1].values\n",
        "y = data.iloc[:, -1].values"
      ],
      "metadata": {
        "id": "WTuASDILa96s"
      },
      "execution_count": null,
      "outputs": []
    },
    {
      "cell_type": "markdown",
      "source": [
        "Convertion in a numeric version to allow the Tensor change.\n",
        "\n",
        "\n"
      ],
      "metadata": {
        "id": "WXpDP_80ZJ8N"
      }
    },
    {
      "cell_type": "code",
      "source": [
        "le = LabelEncoder()\n",
        "X[:, 1] = le.fit_transform(X[:, 1])\n",
        "ct = ColumnTransformer(transformers=[('encoder', OneHotEncoder(), [2, 3])], remainder='passthrough')\n",
        "X = np.array(ct.fit_transform(X)) #we have perdofmed a one hot on categorical data\n",
        "encoder = OneHotEncoder() #output as one hot encoder\n",
        "encoded_Y = encoder.fit(y.reshape(-1,1))\n",
        "y = encoded_Y.transform(y.reshape(-1,1)).toarray()"
      ],
      "metadata": {
        "id": "OqmGONU2ZMGc"
      },
      "execution_count": null,
      "outputs": []
    },
    {
      "cell_type": "markdown",
      "source": [
        "Split in train and test our numeric data."
      ],
      "metadata": {
        "id": "dEDrdQjTuLAT"
      }
    },
    {
      "cell_type": "code",
      "source": [
        "X_train, X_test, y_train, y_test = train_test_split(X, y, test_size=0.2)"
      ],
      "metadata": {
        "id": "2Qq_wogDs2qb"
      },
      "execution_count": null,
      "outputs": []
    },
    {
      "cell_type": "markdown",
      "source": [
        "Let's scale all the variables to have the same variance arround."
      ],
      "metadata": {
        "id": "c3XWfeSswAdl"
      }
    },
    {
      "cell_type": "code",
      "source": [
        "sc = StandardScaler()\n",
        "X_train = sc.fit_transform(X_train)\n",
        "X_test = sc.transform(X_test)"
      ],
      "metadata": {
        "id": "GfTeFbFYwAnS"
      },
      "execution_count": null,
      "outputs": []
    },
    {
      "cell_type": "markdown",
      "source": [
        "Since we are intrested to work with tensors."
      ],
      "metadata": {
        "id": "krPgQ1-GvGH-"
      }
    },
    {
      "cell_type": "code",
      "source": [
        "X_train=tf.convert_to_tensor(X_train)\n",
        "X_test=tf.convert_to_tensor(X_test)\n",
        "y_train=tf.convert_to_tensor(y_train)\n",
        "y_test=tf.convert_to_tensor(y_test)"
      ],
      "metadata": {
        "id": "1C44cycyvFcz"
      },
      "execution_count": null,
      "outputs": []
    },
    {
      "cell_type": "markdown",
      "source": [
        "## Tensor Flow Approach"
      ],
      "metadata": {
        "id": "uyWHvRk9rhEn"
      }
    },
    {
      "cell_type": "code",
      "source": [
        "#Architecture \n",
        "model= tf.keras.models.Sequential()\n",
        "model.add(tf.keras.layers.Dense(12,activation=\"relu\"))\n",
        "model.add(tf.keras.layers.Dense(12,activation=\"relu\"))\n",
        "model.add(tf.keras.layers.Dense(units=5, activation='softmax'))\n",
        "\n",
        "#Compilation\n",
        "model.compile(optimizer='adam', loss='categorical_crossentropy', metrics=['accuracy'])\n",
        "\n",
        "#Fit \n",
        "history=model.fit(X_train, y_train, batch_size=32, epochs=150)"
      ],
      "metadata": {
        "id": "bLjEQD_tuHXX",
        "colab": {
          "base_uri": "https://localhost:8080/"
        },
        "outputId": "52185caf-144d-45f5-daa4-b744563c793f"
      },
      "execution_count": null,
      "outputs": [
        {
          "output_type": "stream",
          "name": "stdout",
          "text": [
            "Epoch 1/150\n",
            "5/5 [==============================] - 0s 2ms/step - loss: 1.7078 - accuracy: 0.1063\n",
            "Epoch 2/150\n",
            "5/5 [==============================] - 0s 2ms/step - loss: 1.6681 - accuracy: 0.1063\n",
            "Epoch 3/150\n",
            "5/5 [==============================] - 0s 3ms/step - loss: 1.6298 - accuracy: 0.1312\n",
            "Epoch 4/150\n",
            "5/5 [==============================] - 0s 2ms/step - loss: 1.5982 - accuracy: 0.1375\n",
            "Epoch 5/150\n",
            "5/5 [==============================] - 0s 2ms/step - loss: 1.5638 - accuracy: 0.1437\n",
            "Epoch 6/150\n",
            "5/5 [==============================] - 0s 3ms/step - loss: 1.5338 - accuracy: 0.1688\n",
            "Epoch 7/150\n",
            "5/5 [==============================] - 0s 2ms/step - loss: 1.5057 - accuracy: 0.1875\n",
            "Epoch 8/150\n",
            "5/5 [==============================] - 0s 2ms/step - loss: 1.4781 - accuracy: 0.2188\n",
            "Epoch 9/150\n",
            "5/5 [==============================] - 0s 2ms/step - loss: 1.4530 - accuracy: 0.2625\n",
            "Epoch 10/150\n",
            "5/5 [==============================] - 0s 2ms/step - loss: 1.4252 - accuracy: 0.2812\n",
            "Epoch 11/150\n",
            "5/5 [==============================] - 0s 2ms/step - loss: 1.4023 - accuracy: 0.3750\n",
            "Epoch 12/150\n",
            "5/5 [==============================] - 0s 2ms/step - loss: 1.3778 - accuracy: 0.4437\n",
            "Epoch 13/150\n",
            "5/5 [==============================] - 0s 2ms/step - loss: 1.3548 - accuracy: 0.5063\n",
            "Epoch 14/150\n",
            "5/5 [==============================] - 0s 2ms/step - loss: 1.3304 - accuracy: 0.5375\n",
            "Epoch 15/150\n",
            "5/5 [==============================] - 0s 2ms/step - loss: 1.3064 - accuracy: 0.5688\n",
            "Epoch 16/150\n",
            "5/5 [==============================] - 0s 3ms/step - loss: 1.2825 - accuracy: 0.5875\n",
            "Epoch 17/150\n",
            "5/5 [==============================] - 0s 2ms/step - loss: 1.2588 - accuracy: 0.6062\n",
            "Epoch 18/150\n",
            "5/5 [==============================] - 0s 2ms/step - loss: 1.2331 - accuracy: 0.6375\n",
            "Epoch 19/150\n",
            "5/5 [==============================] - 0s 2ms/step - loss: 1.2081 - accuracy: 0.6562\n",
            "Epoch 20/150\n",
            "5/5 [==============================] - 0s 3ms/step - loss: 1.1837 - accuracy: 0.6625\n",
            "Epoch 21/150\n",
            "5/5 [==============================] - 0s 2ms/step - loss: 1.1597 - accuracy: 0.6687\n",
            "Epoch 22/150\n",
            "5/5 [==============================] - 0s 2ms/step - loss: 1.1366 - accuracy: 0.6938\n",
            "Epoch 23/150\n",
            "5/5 [==============================] - 0s 2ms/step - loss: 1.1133 - accuracy: 0.7250\n",
            "Epoch 24/150\n",
            "5/5 [==============================] - 0s 3ms/step - loss: 1.0907 - accuracy: 0.7250\n",
            "Epoch 25/150\n",
            "5/5 [==============================] - 0s 2ms/step - loss: 1.0691 - accuracy: 0.7375\n",
            "Epoch 26/150\n",
            "5/5 [==============================] - 0s 2ms/step - loss: 1.0477 - accuracy: 0.7375\n",
            "Epoch 27/150\n",
            "5/5 [==============================] - 0s 2ms/step - loss: 1.0264 - accuracy: 0.7437\n",
            "Epoch 28/150\n",
            "5/5 [==============================] - 0s 3ms/step - loss: 1.0057 - accuracy: 0.7500\n",
            "Epoch 29/150\n",
            "5/5 [==============================] - 0s 2ms/step - loss: 0.9852 - accuracy: 0.7500\n",
            "Epoch 30/150\n",
            "5/5 [==============================] - 0s 2ms/step - loss: 0.9653 - accuracy: 0.7500\n",
            "Epoch 31/150\n",
            "5/5 [==============================] - 0s 2ms/step - loss: 0.9455 - accuracy: 0.7500\n",
            "Epoch 32/150\n",
            "5/5 [==============================] - 0s 2ms/step - loss: 0.9259 - accuracy: 0.7625\n",
            "Epoch 33/150\n",
            "5/5 [==============================] - 0s 2ms/step - loss: 0.9068 - accuracy: 0.7625\n",
            "Epoch 34/150\n",
            "5/5 [==============================] - 0s 2ms/step - loss: 0.8881 - accuracy: 0.7625\n",
            "Epoch 35/150\n",
            "5/5 [==============================] - 0s 3ms/step - loss: 0.8695 - accuracy: 0.7625\n",
            "Epoch 36/150\n",
            "5/5 [==============================] - 0s 2ms/step - loss: 0.8517 - accuracy: 0.7625\n",
            "Epoch 37/150\n",
            "5/5 [==============================] - 0s 2ms/step - loss: 0.8339 - accuracy: 0.7625\n",
            "Epoch 38/150\n",
            "5/5 [==============================] - 0s 2ms/step - loss: 0.8169 - accuracy: 0.7750\n",
            "Epoch 39/150\n",
            "5/5 [==============================] - 0s 3ms/step - loss: 0.7991 - accuracy: 0.7812\n",
            "Epoch 40/150\n",
            "5/5 [==============================] - 0s 2ms/step - loss: 0.7820 - accuracy: 0.7875\n",
            "Epoch 41/150\n",
            "5/5 [==============================] - 0s 2ms/step - loss: 0.7655 - accuracy: 0.7937\n",
            "Epoch 42/150\n",
            "5/5 [==============================] - 0s 3ms/step - loss: 0.7490 - accuracy: 0.8000\n",
            "Epoch 43/150\n",
            "5/5 [==============================] - 0s 3ms/step - loss: 0.7323 - accuracy: 0.8000\n",
            "Epoch 44/150\n",
            "5/5 [==============================] - 0s 3ms/step - loss: 0.7165 - accuracy: 0.8062\n",
            "Epoch 45/150\n",
            "5/5 [==============================] - 0s 2ms/step - loss: 0.7006 - accuracy: 0.8062\n",
            "Epoch 46/150\n",
            "5/5 [==============================] - 0s 2ms/step - loss: 0.6847 - accuracy: 0.8062\n",
            "Epoch 47/150\n",
            "5/5 [==============================] - 0s 3ms/step - loss: 0.6696 - accuracy: 0.8062\n",
            "Epoch 48/150\n",
            "5/5 [==============================] - 0s 2ms/step - loss: 0.6547 - accuracy: 0.8062\n",
            "Epoch 49/150\n",
            "5/5 [==============================] - 0s 2ms/step - loss: 0.6397 - accuracy: 0.8062\n",
            "Epoch 50/150\n",
            "5/5 [==============================] - 0s 3ms/step - loss: 0.6252 - accuracy: 0.8062\n",
            "Epoch 51/150\n",
            "5/5 [==============================] - 0s 3ms/step - loss: 0.6118 - accuracy: 0.8062\n",
            "Epoch 52/150\n",
            "5/5 [==============================] - 0s 2ms/step - loss: 0.5978 - accuracy: 0.8062\n",
            "Epoch 53/150\n",
            "5/5 [==============================] - 0s 3ms/step - loss: 0.5848 - accuracy: 0.8062\n",
            "Epoch 54/150\n",
            "5/5 [==============================] - 0s 3ms/step - loss: 0.5717 - accuracy: 0.8062\n",
            "Epoch 55/150\n",
            "5/5 [==============================] - 0s 3ms/step - loss: 0.5594 - accuracy: 0.8125\n",
            "Epoch 56/150\n",
            "5/5 [==============================] - 0s 2ms/step - loss: 0.5471 - accuracy: 0.8125\n",
            "Epoch 57/150\n",
            "5/5 [==============================] - 0s 2ms/step - loss: 0.5349 - accuracy: 0.8188\n",
            "Epoch 58/150\n",
            "5/5 [==============================] - 0s 3ms/step - loss: 0.5238 - accuracy: 0.8188\n",
            "Epoch 59/150\n",
            "5/5 [==============================] - 0s 3ms/step - loss: 0.5119 - accuracy: 0.8313\n",
            "Epoch 60/150\n",
            "5/5 [==============================] - 0s 3ms/step - loss: 0.5016 - accuracy: 0.8313\n",
            "Epoch 61/150\n",
            "5/5 [==============================] - 0s 3ms/step - loss: 0.4905 - accuracy: 0.8375\n",
            "Epoch 62/150\n",
            "5/5 [==============================] - 0s 3ms/step - loss: 0.4803 - accuracy: 0.8375\n",
            "Epoch 63/150\n",
            "5/5 [==============================] - 0s 3ms/step - loss: 0.4703 - accuracy: 0.8375\n",
            "Epoch 64/150\n",
            "5/5 [==============================] - 0s 3ms/step - loss: 0.4601 - accuracy: 0.8375\n",
            "Epoch 65/150\n",
            "5/5 [==============================] - 0s 2ms/step - loss: 0.4503 - accuracy: 0.8375\n",
            "Epoch 66/150\n",
            "5/5 [==============================] - 0s 3ms/step - loss: 0.4408 - accuracy: 0.8375\n",
            "Epoch 67/150\n",
            "5/5 [==============================] - 0s 3ms/step - loss: 0.4324 - accuracy: 0.8438\n",
            "Epoch 68/150\n",
            "5/5 [==============================] - 0s 3ms/step - loss: 0.4229 - accuracy: 0.8750\n",
            "Epoch 69/150\n",
            "5/5 [==============================] - 0s 3ms/step - loss: 0.4141 - accuracy: 0.8813\n",
            "Epoch 70/150\n",
            "5/5 [==============================] - 0s 2ms/step - loss: 0.4056 - accuracy: 0.8938\n",
            "Epoch 71/150\n",
            "5/5 [==============================] - 0s 3ms/step - loss: 0.3971 - accuracy: 0.9062\n",
            "Epoch 72/150\n",
            "5/5 [==============================] - 0s 2ms/step - loss: 0.3889 - accuracy: 0.9062\n",
            "Epoch 73/150\n",
            "5/5 [==============================] - 0s 2ms/step - loss: 0.3807 - accuracy: 0.9062\n",
            "Epoch 74/150\n",
            "5/5 [==============================] - 0s 2ms/step - loss: 0.3721 - accuracy: 0.9125\n",
            "Epoch 75/150\n",
            "5/5 [==============================] - 0s 2ms/step - loss: 0.3642 - accuracy: 0.9125\n",
            "Epoch 76/150\n",
            "5/5 [==============================] - 0s 2ms/step - loss: 0.3563 - accuracy: 0.9125\n",
            "Epoch 77/150\n",
            "5/5 [==============================] - 0s 2ms/step - loss: 0.3491 - accuracy: 0.9187\n",
            "Epoch 78/150\n",
            "5/5 [==============================] - 0s 3ms/step - loss: 0.3416 - accuracy: 0.9187\n",
            "Epoch 79/150\n",
            "5/5 [==============================] - 0s 2ms/step - loss: 0.3339 - accuracy: 0.9250\n",
            "Epoch 80/150\n",
            "5/5 [==============================] - 0s 2ms/step - loss: 0.3268 - accuracy: 0.9250\n",
            "Epoch 81/150\n",
            "5/5 [==============================] - 0s 2ms/step - loss: 0.3196 - accuracy: 0.9312\n",
            "Epoch 82/150\n",
            "5/5 [==============================] - 0s 2ms/step - loss: 0.3127 - accuracy: 0.9312\n",
            "Epoch 83/150\n",
            "5/5 [==============================] - 0s 3ms/step - loss: 0.3063 - accuracy: 0.9312\n",
            "Epoch 84/150\n",
            "5/5 [==============================] - 0s 2ms/step - loss: 0.3000 - accuracy: 0.9250\n",
            "Epoch 85/150\n",
            "5/5 [==============================] - 0s 2ms/step - loss: 0.2937 - accuracy: 0.9250\n",
            "Epoch 86/150\n",
            "5/5 [==============================] - 0s 3ms/step - loss: 0.2875 - accuracy: 0.9250\n",
            "Epoch 87/150\n",
            "5/5 [==============================] - 0s 3ms/step - loss: 0.2823 - accuracy: 0.9187\n",
            "Epoch 88/150\n",
            "5/5 [==============================] - 0s 3ms/step - loss: 0.2766 - accuracy: 0.9187\n",
            "Epoch 89/150\n",
            "5/5 [==============================] - 0s 2ms/step - loss: 0.2703 - accuracy: 0.9250\n",
            "Epoch 90/150\n",
            "5/5 [==============================] - 0s 2ms/step - loss: 0.2653 - accuracy: 0.9312\n",
            "Epoch 91/150\n",
            "5/5 [==============================] - 0s 2ms/step - loss: 0.2600 - accuracy: 0.9375\n",
            "Epoch 92/150\n",
            "5/5 [==============================] - 0s 2ms/step - loss: 0.2548 - accuracy: 0.9438\n",
            "Epoch 93/150\n",
            "5/5 [==============================] - 0s 2ms/step - loss: 0.2501 - accuracy: 0.9438\n",
            "Epoch 94/150\n",
            "5/5 [==============================] - 0s 2ms/step - loss: 0.2449 - accuracy: 0.9438\n",
            "Epoch 95/150\n",
            "5/5 [==============================] - 0s 3ms/step - loss: 0.2403 - accuracy: 0.9500\n",
            "Epoch 96/150\n",
            "5/5 [==============================] - 0s 2ms/step - loss: 0.2354 - accuracy: 0.9500\n",
            "Epoch 97/150\n",
            "5/5 [==============================] - 0s 3ms/step - loss: 0.2310 - accuracy: 0.9563\n",
            "Epoch 98/150\n",
            "5/5 [==============================] - 0s 3ms/step - loss: 0.2268 - accuracy: 0.9563\n",
            "Epoch 99/150\n",
            "5/5 [==============================] - 0s 2ms/step - loss: 0.2221 - accuracy: 0.9625\n",
            "Epoch 100/150\n",
            "5/5 [==============================] - 0s 2ms/step - loss: 0.2177 - accuracy: 0.9625\n",
            "Epoch 101/150\n",
            "5/5 [==============================] - 0s 2ms/step - loss: 0.2140 - accuracy: 0.9688\n",
            "Epoch 102/150\n",
            "5/5 [==============================] - 0s 2ms/step - loss: 0.2098 - accuracy: 0.9688\n",
            "Epoch 103/150\n",
            "5/5 [==============================] - 0s 3ms/step - loss: 0.2059 - accuracy: 0.9688\n",
            "Epoch 104/150\n",
            "5/5 [==============================] - 0s 2ms/step - loss: 0.2018 - accuracy: 0.9688\n",
            "Epoch 105/150\n",
            "5/5 [==============================] - 0s 3ms/step - loss: 0.1982 - accuracy: 0.9688\n",
            "Epoch 106/150\n",
            "5/5 [==============================] - 0s 3ms/step - loss: 0.1944 - accuracy: 0.9688\n",
            "Epoch 107/150\n",
            "5/5 [==============================] - 0s 3ms/step - loss: 0.1904 - accuracy: 0.9688\n",
            "Epoch 108/150\n",
            "5/5 [==============================] - 0s 2ms/step - loss: 0.1867 - accuracy: 0.9688\n",
            "Epoch 109/150\n",
            "5/5 [==============================] - 0s 2ms/step - loss: 0.1831 - accuracy: 0.9750\n",
            "Epoch 110/150\n",
            "5/5 [==============================] - 0s 2ms/step - loss: 0.1797 - accuracy: 0.9750\n",
            "Epoch 111/150\n",
            "5/5 [==============================] - 0s 2ms/step - loss: 0.1762 - accuracy: 0.9688\n",
            "Epoch 112/150\n",
            "5/5 [==============================] - 0s 3ms/step - loss: 0.1732 - accuracy: 0.9750\n",
            "Epoch 113/150\n",
            "5/5 [==============================] - 0s 3ms/step - loss: 0.1696 - accuracy: 0.9750\n",
            "Epoch 114/150\n",
            "5/5 [==============================] - 0s 2ms/step - loss: 0.1665 - accuracy: 0.9750\n",
            "Epoch 115/150\n",
            "5/5 [==============================] - 0s 3ms/step - loss: 0.1635 - accuracy: 0.9750\n",
            "Epoch 116/150\n",
            "5/5 [==============================] - 0s 2ms/step - loss: 0.1605 - accuracy: 0.9750\n",
            "Epoch 117/150\n",
            "5/5 [==============================] - 0s 3ms/step - loss: 0.1576 - accuracy: 0.9750\n",
            "Epoch 118/150\n",
            "5/5 [==============================] - 0s 2ms/step - loss: 0.1547 - accuracy: 0.9750\n",
            "Epoch 119/150\n",
            "5/5 [==============================] - 0s 2ms/step - loss: 0.1518 - accuracy: 0.9750\n",
            "Epoch 120/150\n",
            "5/5 [==============================] - 0s 3ms/step - loss: 0.1491 - accuracy: 0.9750\n",
            "Epoch 121/150\n",
            "5/5 [==============================] - 0s 2ms/step - loss: 0.1465 - accuracy: 0.9750\n",
            "Epoch 122/150\n",
            "5/5 [==============================] - 0s 3ms/step - loss: 0.1439 - accuracy: 0.9750\n",
            "Epoch 123/150\n",
            "5/5 [==============================] - 0s 2ms/step - loss: 0.1416 - accuracy: 0.9750\n",
            "Epoch 124/150\n",
            "5/5 [==============================] - 0s 3ms/step - loss: 0.1391 - accuracy: 0.9750\n",
            "Epoch 125/150\n",
            "5/5 [==============================] - 0s 2ms/step - loss: 0.1369 - accuracy: 0.9812\n",
            "Epoch 126/150\n",
            "5/5 [==============================] - 0s 2ms/step - loss: 0.1346 - accuracy: 0.9750\n",
            "Epoch 127/150\n",
            "5/5 [==============================] - 0s 2ms/step - loss: 0.1326 - accuracy: 0.9750\n",
            "Epoch 128/150\n",
            "5/5 [==============================] - 0s 2ms/step - loss: 0.1305 - accuracy: 0.9750\n",
            "Epoch 129/150\n",
            "5/5 [==============================] - 0s 2ms/step - loss: 0.1285 - accuracy: 0.9750\n",
            "Epoch 130/150\n",
            "5/5 [==============================] - 0s 2ms/step - loss: 0.1260 - accuracy: 0.9812\n",
            "Epoch 131/150\n",
            "5/5 [==============================] - 0s 2ms/step - loss: 0.1242 - accuracy: 0.9875\n",
            "Epoch 132/150\n",
            "5/5 [==============================] - 0s 3ms/step - loss: 0.1223 - accuracy: 0.9875\n",
            "Epoch 133/150\n",
            "5/5 [==============================] - 0s 2ms/step - loss: 0.1205 - accuracy: 0.9937\n",
            "Epoch 134/150\n",
            "5/5 [==============================] - 0s 3ms/step - loss: 0.1187 - accuracy: 0.9937\n",
            "Epoch 135/150\n",
            "5/5 [==============================] - 0s 2ms/step - loss: 0.1172 - accuracy: 0.9937\n",
            "Epoch 136/150\n",
            "5/5 [==============================] - 0s 2ms/step - loss: 0.1152 - accuracy: 0.9875\n",
            "Epoch 137/150\n",
            "5/5 [==============================] - 0s 2ms/step - loss: 0.1134 - accuracy: 0.9937\n",
            "Epoch 138/150\n",
            "5/5 [==============================] - 0s 3ms/step - loss: 0.1119 - accuracy: 0.9937\n",
            "Epoch 139/150\n",
            "5/5 [==============================] - 0s 2ms/step - loss: 0.1104 - accuracy: 0.9937\n",
            "Epoch 140/150\n",
            "5/5 [==============================] - 0s 2ms/step - loss: 0.1089 - accuracy: 0.9937\n",
            "Epoch 141/150\n",
            "5/5 [==============================] - 0s 3ms/step - loss: 0.1071 - accuracy: 0.9937\n",
            "Epoch 142/150\n",
            "5/5 [==============================] - 0s 2ms/step - loss: 0.1058 - accuracy: 0.9937\n",
            "Epoch 143/150\n",
            "5/5 [==============================] - 0s 2ms/step - loss: 0.1043 - accuracy: 0.9937\n",
            "Epoch 144/150\n",
            "5/5 [==============================] - 0s 2ms/step - loss: 0.1028 - accuracy: 0.9937\n",
            "Epoch 145/150\n",
            "5/5 [==============================] - 0s 2ms/step - loss: 0.1013 - accuracy: 0.9937\n",
            "Epoch 146/150\n",
            "5/5 [==============================] - 0s 2ms/step - loss: 0.1001 - accuracy: 0.9937\n",
            "Epoch 147/150\n",
            "5/5 [==============================] - 0s 2ms/step - loss: 0.0990 - accuracy: 0.9937\n",
            "Epoch 148/150\n",
            "5/5 [==============================] - 0s 2ms/step - loss: 0.0976 - accuracy: 0.9937\n",
            "Epoch 149/150\n",
            "5/5 [==============================] - 0s 2ms/step - loss: 0.0961 - accuracy: 0.9937\n",
            "Epoch 150/150\n",
            "5/5 [==============================] - 0s 3ms/step - loss: 0.0951 - accuracy: 0.9937\n"
          ]
        }
      ]
    },
    {
      "cell_type": "code",
      "source": [
        "import matplotlib.pyplot as plt\n",
        "plt.plot(history.history[\"loss\"])\n",
        "plt.plot(history.history[\"accuracy\"])\n",
        "plt.legend([\"Loss On Train\",\"Accuracy\"])\n",
        "plt.show()"
      ],
      "metadata": {
        "colab": {
          "base_uri": "https://localhost:8080/",
          "height": 265
        },
        "id": "mYK8-TCrmFoK",
        "outputId": "e4a974f8-bf61-4307-9d4f-3fb0b761c7f3"
      },
      "execution_count": null,
      "outputs": [
        {
          "output_type": "display_data",
          "data": {
            "text/plain": [
              "<Figure size 432x288 with 1 Axes>"
            ],
            "image/png": "[encoded data removed]"
          },
          "metadata": {
            "needs_background": "light"
          }
        }
      ]
    },
    {
      "cell_type": "code",
      "source": [
        "model.evaluate(X_test,  y_test)\n"
      ],
      "metadata": {
        "colab": {
          "base_uri": "https://localhost:8080/"
        },
        "id": "BfUu33BDuSxm",
        "outputId": "eae5eca1-98a1-4614-a697-a18208190b27"
      },
      "execution_count": null,
      "outputs": [
        {
          "output_type": "stream",
          "name": "stderr",
          "text": [
            "WARNING:tensorflow:6 out of the last 18 calls to <function Model.make_test_function.<locals>.test_function at 0x7fe732418440> triggered tf.function retracing. Tracing is expensive and the excessive number of tracings could be due to (1) creating @tf.function repeatedly in a loop, (2) passing tensors with different shapes, (3) passing Python objects instead of tensors. For (1), please define your @tf.function outside of the loop. For (2), @tf.function has reduce_retracing=True option that can avoid unnecessary retracing. For (3), please refer to https://www.tensorflow.org/guide/function#controlling_retracing and https://www.tensorflow.org/api_docs/python/tf/function for  more details.\n"
          ]
        },
        {
          "output_type": "stream",
          "name": "stdout",
          "text": [
            "2/2 [==============================] - 0s 7ms/step - loss: 0.2114 - accuracy: 0.9500\n"
          ]
        },
        {
          "output_type": "execute_result",
          "data": {
            "text/plain": [
              "[0.21138250827789307, 0.949999988079071]"
            ]
          },
          "metadata": {},
          "execution_count": 246
        }
      ]
    },
    {
      "cell_type": "code",
      "source": [
        "from sklearn.metrics import confusion_matrix, classification_report\n",
        "y_test=tf.argmax(y_test, axis=1)\n",
        "y_pred=tf.argmax(model.predict(X_test),axis=1)\n",
        "cf_matrix = confusion_matrix(y_test, y_pred)\n",
        "sns.heatmap(cf_matrix, annot=True, cmap=\"vlag_r\")\n",
        "plt.title(\"Confusion Matrix for Logistic Regression\", fontsize=14, fontname=\"Helvetica\", y=1.03)"
      ],
      "metadata": {
        "colab": {
          "base_uri": "https://localhost:8080/",
          "height": 318
        },
        "id": "l35gjape27Ct",
        "outputId": "763443de-f59d-4543-f3b3-ac747260938d"
      },
      "execution_count": null,
      "outputs": [
        {
          "output_type": "stream",
          "name": "stdout",
          "text": [
            "2/2 [==============================] - 0s 4ms/step\n"
          ]
        },
        {
          "output_type": "execute_result",
          "data": {
            "text/plain": [
              "Text(0.5, 1.03, 'Confusion Matrix for Logistic Regression')"
            ]
          },
          "metadata": {},
          "execution_count": 247
        },
        {
          "output_type": "display_data",
          "data": {
            "text/plain": [
              "<Figure size 432x288 with 2 Axes>"
            ],
            "image/png": "[encoded data removed]"
          },
          "metadata": {
            "needs_background": "light"
          }
        }
      ]
    },
    {
      "cell_type": "code",
      "source": [
        "from sklearn.model_selection import KFold\n",
        "num_splits=5\n",
        "kfold=KFold(5)\n",
        "train_accs, test_accs = [], []\n",
        "for train_index, test_index in kfold.split(X):    \n",
        "    X_train, X_test = X[train_index], X[test_index]\n",
        "    y_train, y_test = y[train_index], y[test_index]\n",
        "    sc = StandardScaler()\n",
        "    X_train = sc.fit_transform(X_train)\n",
        "    X_test = sc.transform(X_test)\n",
        "    X_train=tf.convert_to_tensor(X_train)\n",
        "    X_test=tf.convert_to_tensor(X_test)\n",
        "    y_train=tf.convert_to_tensor(y_train)\n",
        "    y_test=tf.convert_to_tensor(y_test)\n",
        "    tf.keras.backend.clear_session()\n",
        "    model.fit(X_train, y_train, batch_size=32, epochs=150)\n",
        "    y_test=tf.argmax(y_test, axis=1)\n",
        "    y_pred=tf.argmax(model.predict(X_test),axis=1)\n",
        "    y_train=tf.argmax(y_train,axis=1)\n",
        "    train_accs.append(accuracy_score(y_train,y_train) * 100)\n",
        "    test_accs.append(accuracy_score(y_test,y_pred) * 100)\n",
        "\n",
        "print(\"\\tTraining \\t Test\")\n",
        "for i in range(1, num_splits+1):\n",
        "  print(i, \"\\t\", train_accs[i-1], \"\\t\", test_accs[i-1])\n"
      ],
      "metadata": {
        "id": "5RBMbQko6Hg3"
      },
      "execution_count": null,
      "outputs": []
    },
    {
      "cell_type": "markdown",
      "source": [
        "## Logistic Regression"
      ],
      "metadata": {
        "id": "-oZ9VfRiaz27"
      }
    },
    {
      "cell_type": "markdown",
      "source": [
        "Before to compare the results in term of accuracy of a neural network with 2 dense layers with the one obtained with a logistic regression we should compute again the vector of output that in this case migth be not a one hot encoding, but a categorical one."
      ],
      "metadata": {
        "id": "2giVMuJdzCcy"
      }
    },
    {
      "cell_type": "code",
      "source": [
        "#y_test=tf.argmax(y_test, axis=1)\n",
        "y_train=tf.argmax(y_train, axis=1)\n",
        "from sklearn.linear_model import LogisticRegression\n",
        "LRclassifier = LogisticRegression(solver='liblinear', max_iter=5000)\n",
        "LRclassifier.fit(X_train,y_train)\n",
        "from sklearn.metrics import accuracy_score\n",
        "accuracy_score(LRclassifier.predict(X_test),y_test)\n"
      ],
      "metadata": {
        "colab": {
          "base_uri": "https://localhost:8080/"
        },
        "id": "xM5iOJeRaywb",
        "outputId": "e0bfb442-a1f7-4e7d-a615-4a606eab4956"
      },
      "execution_count": null,
      "outputs": [
        {
          "output_type": "execute_result",
          "data": {
            "text/plain": [
              "0.95"
            ]
          },
          "metadata": {},
          "execution_count": 248
        }
      ]
    },
    {
      "cell_type": "code",
      "source": [
        "from sklearn.metrics import confusion_matrix, classification_report\n",
        "\n",
        "y_pred_lr = LRclassifier.predict(X_test)\n",
        "cf_matrix = confusion_matrix(y_test, y_pred_lr)\n",
        "sns.heatmap(cf_matrix, annot=True, cmap=\"vlag_r\")\n",
        "plt.title(\"Confusion Matrix for Logistic Regression\", fontsize=14, fontname=\"Helvetica\", y=1.03)"
      ],
      "metadata": {
        "colab": {
          "base_uri": "https://localhost:8080/",
          "height": 300
        },
        "id": "ao6VE_FV0Ktl",
        "outputId": "0f473d8f-079c-4812-f8aa-c3b10dcc2861"
      },
      "execution_count": null,
      "outputs": [
        {
          "output_type": "execute_result",
          "data": {
            "text/plain": [
              "Text(0.5, 1.03, 'Confusion Matrix for Logistic Regression')"
            ]
          },
          "metadata": {},
          "execution_count": 249
        },
        {
          "output_type": "display_data",
          "data": {
            "text/plain": [
              "<Figure size 432x288 with 2 Axes>"
            ],
            "image/png": "[encoded data removed]"
          },
          "metadata": {
            "needs_background": "light"
          }
        }
      ]
    },
    {
      "cell_type": "code",
      "source": [
        "from sklearn.model_selection import KFold\n",
        "num_splits=5\n",
        "kfold=KFold(5)\n",
        "train_accs, test_accs = [], []\n",
        "for train_index, test_index in kfold.split(X):    \n",
        "    X_train, X_test = X[train_index], X[test_index]\n",
        "    y_train, y_test = y[train_index], y[test_index]\n",
        "    y_train=tf.argmax(y_train, axis=1)\n",
        "    y_test=tf.argmax(y_test, axis=1)\n",
        "    sc = StandardScaler()\n",
        "    X_train = sc.fit_transform(X_train)\n",
        "    X_test = sc.transform(X_test)\n",
        "    LRclassifier = LogisticRegression(solver='liblinear', max_iter=5000)\n",
        "    LRclassifier.fit(X_train,y_train)\n",
        "    y_pred=LRclassifier.predict(X_test)\n",
        "    train_accs.append(accuracy_score(y_train,y_train) * 100)\n",
        "    test_accs.append(accuracy_score(y_test,y_pred) * 100)\n",
        "\n",
        "print(\"\\tTraining \\t Test\")\n",
        "for i in range(1, num_splits+1):\n",
        "  print(i, \"\\t\", train_accs[i-1], \"\\t\", test_accs[i-1])\n"
      ],
      "metadata": {
        "colab": {
          "base_uri": "https://localhost:8080/"
        },
        "id": "Xm6toprW-KcR",
        "outputId": "f04c57c9-e219-4f86-9ff3-2a6c51c93dc2"
      },
      "execution_count": null,
      "outputs": [
        {
          "output_type": "stream",
          "name": "stdout",
          "text": [
            "\tTraining \t Test\n",
            "1 \t 100.0 \t 92.5\n",
            "2 \t 100.0 \t 97.5\n",
            "3 \t 100.0 \t 95.0\n",
            "4 \t 100.0 \t 92.5\n",
            "5 \t 100.0 \t 97.5\n"
          ]
        }
      ]
    },
    {
      "cell_type": "markdown",
      "source": [
        "Given the summary results generated with the cross validation male sense to apply a Neural Network also in this context."
      ],
      "metadata": {
        "id": "hqwEG33a_gae"
      }
    }
  ],
  "metadata": {
    "application/vnd.databricks.v1+notebook": {
      "dashboards": [],
      "language": "python",
      "notebookMetadata": {
        "pythonIndentUnit": 2
      },
      "notebookName": "Classification",
      "notebookOrigID": 3966539020232142,
      "widgets": {}
    },
    "colab": {
      "collapsed_sections": [
        "WTlsJS0MrAyn",
        "6YeBCI-gy2Wu",
        "we-QZTSNa70i"
      ],
      "machine_shape": "hm",
      "provenance": []
    },
    "kernelspec": {
      "display_name": "Python 3",
      "name": "python3"
    }
  },
  "nbformat": 4,
  "nbformat_minor": 0
}